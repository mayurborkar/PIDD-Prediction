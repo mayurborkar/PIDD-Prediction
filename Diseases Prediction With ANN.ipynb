{
 "cells": [
  {
   "cell_type": "code",
   "execution_count": 14,
   "metadata": {},
   "outputs": [],
   "source": [
    "import pandas as pd\n",
    "import numpy as np\n",
    "import seaborn as sns\n",
    "import matplotlib.pyplot as plt\n",
    "%matplotlib inline"
   ]
  },
  {
   "cell_type": "code",
   "execution_count": 15,
   "metadata": {},
   "outputs": [
    {
     "data": {
      "text/html": [
       "<div>\n",
       "<style scoped>\n",
       "    .dataframe tbody tr th:only-of-type {\n",
       "        vertical-align: middle;\n",
       "    }\n",
       "\n",
       "    .dataframe tbody tr th {\n",
       "        vertical-align: top;\n",
       "    }\n",
       "\n",
       "    .dataframe thead th {\n",
       "        text-align: right;\n",
       "    }\n",
       "</style>\n",
       "<table border=\"1\" class=\"dataframe\">\n",
       "  <thead>\n",
       "    <tr style=\"text-align: right;\">\n",
       "      <th></th>\n",
       "      <th>Pregnancies</th>\n",
       "      <th>Glucose</th>\n",
       "      <th>BloodPressure</th>\n",
       "      <th>SkinThickness</th>\n",
       "      <th>Insulin</th>\n",
       "      <th>BMI</th>\n",
       "      <th>Diabetes function</th>\n",
       "      <th>Age</th>\n",
       "      <th>Class</th>\n",
       "    </tr>\n",
       "  </thead>\n",
       "  <tbody>\n",
       "    <tr>\n",
       "      <th>0</th>\n",
       "      <td>6</td>\n",
       "      <td>148</td>\n",
       "      <td>72</td>\n",
       "      <td>35</td>\n",
       "      <td>0</td>\n",
       "      <td>33.6</td>\n",
       "      <td>0.627</td>\n",
       "      <td>50</td>\n",
       "      <td>1</td>\n",
       "    </tr>\n",
       "    <tr>\n",
       "      <th>1</th>\n",
       "      <td>1</td>\n",
       "      <td>85</td>\n",
       "      <td>66</td>\n",
       "      <td>29</td>\n",
       "      <td>0</td>\n",
       "      <td>26.6</td>\n",
       "      <td>0.351</td>\n",
       "      <td>31</td>\n",
       "      <td>0</td>\n",
       "    </tr>\n",
       "    <tr>\n",
       "      <th>2</th>\n",
       "      <td>8</td>\n",
       "      <td>183</td>\n",
       "      <td>64</td>\n",
       "      <td>0</td>\n",
       "      <td>0</td>\n",
       "      <td>23.3</td>\n",
       "      <td>0.672</td>\n",
       "      <td>32</td>\n",
       "      <td>1</td>\n",
       "    </tr>\n",
       "    <tr>\n",
       "      <th>3</th>\n",
       "      <td>1</td>\n",
       "      <td>89</td>\n",
       "      <td>66</td>\n",
       "      <td>23</td>\n",
       "      <td>94</td>\n",
       "      <td>28.1</td>\n",
       "      <td>0.167</td>\n",
       "      <td>21</td>\n",
       "      <td>0</td>\n",
       "    </tr>\n",
       "    <tr>\n",
       "      <th>4</th>\n",
       "      <td>0</td>\n",
       "      <td>137</td>\n",
       "      <td>40</td>\n",
       "      <td>35</td>\n",
       "      <td>168</td>\n",
       "      <td>43.1</td>\n",
       "      <td>2.288</td>\n",
       "      <td>33</td>\n",
       "      <td>1</td>\n",
       "    </tr>\n",
       "  </tbody>\n",
       "</table>\n",
       "</div>"
      ],
      "text/plain": [
       "   Pregnancies  Glucose  BloodPressure  SkinThickness  Insulin   BMI  \\\n",
       "0            6      148             72             35        0  33.6   \n",
       "1            1       85             66             29        0  26.6   \n",
       "2            8      183             64              0        0  23.3   \n",
       "3            1       89             66             23       94  28.1   \n",
       "4            0      137             40             35      168  43.1   \n",
       "\n",
       "   Diabetes function  Age  Class  \n",
       "0              0.627   50      1  \n",
       "1              0.351   31      0  \n",
       "2              0.672   32      1  \n",
       "3              0.167   21      0  \n",
       "4              2.288   33      1  "
      ]
     },
     "execution_count": 15,
     "metadata": {},
     "output_type": "execute_result"
    }
   ],
   "source": [
    "df=pd.read_csv(r\"C:\\Users\\Lenovo\\Desktop\\Data\\PIDD Data.csv\")\n",
    "df.head()"
   ]
  },
  {
   "cell_type": "code",
   "execution_count": 16,
   "metadata": {},
   "outputs": [
    {
     "name": "stdout",
     "output_type": "stream",
     "text": [
      "<class 'pandas.core.frame.DataFrame'>\n",
      "RangeIndex: 768 entries, 0 to 767\n",
      "Data columns (total 9 columns):\n",
      " #   Column             Non-Null Count  Dtype  \n",
      "---  ------             --------------  -----  \n",
      " 0   Pregnancies        768 non-null    int64  \n",
      " 1   Glucose            768 non-null    int64  \n",
      " 2   BloodPressure      768 non-null    int64  \n",
      " 3   SkinThickness      768 non-null    int64  \n",
      " 4   Insulin            768 non-null    int64  \n",
      " 5   BMI                768 non-null    float64\n",
      " 6   Diabetes function  768 non-null    float64\n",
      " 7   Age                768 non-null    int64  \n",
      " 8   Class              768 non-null    int64  \n",
      "dtypes: float64(2), int64(7)\n",
      "memory usage: 54.1 KB\n"
     ]
    }
   ],
   "source": [
    "df.info()"
   ]
  },
  {
   "cell_type": "code",
   "execution_count": 17,
   "metadata": {},
   "outputs": [
    {
     "data": {
      "image/png": "[encoded data removed]",
      "text/plain": [
       "<Figure size 576x576 with 2 Axes>"
      ]
     },
     "metadata": {
      "needs_background": "light"
     },
     "output_type": "display_data"
    }
   ],
   "source": [
    "plt.figure(figsize=(8,8))\n",
    "sns.heatmap(df.corr(),annot=True,cmap=\"RdYlGn\",linewidths=2,linecolor='black')\n",
    "plt.show()"
   ]
  },
  {
   "cell_type": "code",
   "execution_count": 21,
   "metadata": {},
   "outputs": [],
   "source": [
    "from sklearn.preprocessing import StandardScaler\n",
    "sc=StandardScaler()"
   ]
  },
  {
   "cell_type": "code",
   "execution_count": 45,
   "metadata": {},
   "outputs": [
    {
     "data": {
      "text/plain": [
       "array([[ 0.63994726,  0.84832379,  0.14964075, ...,  0.46849198,\n",
       "         1.4259954 ,  1.36589591],\n",
       "       [-0.84488505, -1.12339636, -0.16054575, ..., -0.36506078,\n",
       "        -0.19067191, -0.73212021],\n",
       "       [ 1.23388019,  1.94372388, -0.26394125, ...,  0.60439732,\n",
       "        -0.10558415,  1.36589591],\n",
       "       ...,\n",
       "       [ 0.3429808 ,  0.00330087,  0.14964075, ..., -0.68519336,\n",
       "        -0.27575966, -0.73212021],\n",
       "       [-0.84488505,  0.1597866 , -0.47073225, ..., -0.37110101,\n",
       "         1.17073215,  1.36589591],\n",
       "       [-0.84488505, -0.8730192 ,  0.04624525, ..., -0.47378505,\n",
       "        -0.87137393, -0.73212021]])"
      ]
     },
     "execution_count": 45,
     "metadata": {},
     "output_type": "execute_result"
    }
   ],
   "source": [
    "scaled=sc.fit_transform(df)\n",
    "scaled"
   ]
  },
  {
   "cell_type": "code",
   "execution_count": 46,
   "metadata": {},
   "outputs": [
    {
     "data": {
      "text/plain": [
       "PCA(copy=True, iterated_power='auto', n_components=2, random_state=None,\n",
       "    svd_solver='auto', tol=0.0, whiten=False)"
      ]
     },
     "execution_count": 46,
     "metadata": {},
     "output_type": "execute_result"
    }
   ],
   "source": [
    "from sklearn.decomposition import PCA\n",
    "pca=PCA(n_components=2)\n",
    "pca.fit(scaled)"
   ]
  },
  {
   "cell_type": "code",
   "execution_count": 47,
   "metadata": {},
   "outputs": [
    {
     "data": {
      "text/plain": [
       "array([[-1.75694707, -1.11174258],\n",
       "       [ 1.50742148,  0.55940565],\n",
       "       [-0.65082201, -1.92957633],\n",
       "       ...,\n",
       "       [ 0.57408846, -0.03381634],\n",
       "       [ 0.17269908, -1.32289215],\n",
       "       [ 1.32126715,  1.02748861]])"
      ]
     },
     "execution_count": 47,
     "metadata": {},
     "output_type": "execute_result"
    }
   ],
   "source": [
    "df2=pca.transform(scaled)\n",
    "df2"
   ]
  },
  {
   "cell_type": "code",
   "execution_count": 48,
   "metadata": {},
   "outputs": [
    {
     "data": {
      "text/html": [
       "<div>\n",
       "<style scoped>\n",
       "    .dataframe tbody tr th:only-of-type {\n",
       "        vertical-align: middle;\n",
       "    }\n",
       "\n",
       "    .dataframe tbody tr th {\n",
       "        vertical-align: top;\n",
       "    }\n",
       "\n",
       "    .dataframe thead th {\n",
       "        text-align: right;\n",
       "    }\n",
       "</style>\n",
       "<table border=\"1\" class=\"dataframe\">\n",
       "  <thead>\n",
       "    <tr style=\"text-align: right;\">\n",
       "      <th></th>\n",
       "      <th>0</th>\n",
       "      <th>1</th>\n",
       "    </tr>\n",
       "  </thead>\n",
       "  <tbody>\n",
       "    <tr>\n",
       "      <th>0</th>\n",
       "      <td>-1.756947</td>\n",
       "      <td>-1.111743</td>\n",
       "    </tr>\n",
       "    <tr>\n",
       "      <th>1</th>\n",
       "      <td>1.507421</td>\n",
       "      <td>0.559406</td>\n",
       "    </tr>\n",
       "    <tr>\n",
       "      <th>2</th>\n",
       "      <td>-0.650822</td>\n",
       "      <td>-1.929576</td>\n",
       "    </tr>\n",
       "    <tr>\n",
       "      <th>3</th>\n",
       "      <td>1.587398</td>\n",
       "      <td>1.065075</td>\n",
       "    </tr>\n",
       "    <tr>\n",
       "      <th>4</th>\n",
       "      <td>-2.483374</td>\n",
       "      <td>2.359563</td>\n",
       "    </tr>\n",
       "  </tbody>\n",
       "</table>\n",
       "</div>"
      ],
      "text/plain": [
       "          0         1\n",
       "0 -1.756947 -1.111743\n",
       "1  1.507421  0.559406\n",
       "2 -0.650822 -1.929576\n",
       "3  1.587398  1.065075\n",
       "4 -2.483374  2.359563"
      ]
     },
     "execution_count": 48,
     "metadata": {},
     "output_type": "execute_result"
    }
   ],
   "source": [
    "X=pd.DataFrame(df2)\n",
    "X.head()"
   ]
  },
  {
   "cell_type": "code",
   "execution_count": 49,
   "metadata": {},
   "outputs": [
    {
     "data": {
      "text/html": [
       "<div>\n",
       "<style scoped>\n",
       "    .dataframe tbody tr th:only-of-type {\n",
       "        vertical-align: middle;\n",
       "    }\n",
       "\n",
       "    .dataframe tbody tr th {\n",
       "        vertical-align: top;\n",
       "    }\n",
       "\n",
       "    .dataframe thead th {\n",
       "        text-align: right;\n",
       "    }\n",
       "</style>\n",
       "<table border=\"1\" class=\"dataframe\">\n",
       "  <thead>\n",
       "    <tr style=\"text-align: right;\">\n",
       "      <th></th>\n",
       "      <th>Class</th>\n",
       "    </tr>\n",
       "  </thead>\n",
       "  <tbody>\n",
       "    <tr>\n",
       "      <th>0</th>\n",
       "      <td>1</td>\n",
       "    </tr>\n",
       "    <tr>\n",
       "      <th>1</th>\n",
       "      <td>0</td>\n",
       "    </tr>\n",
       "    <tr>\n",
       "      <th>2</th>\n",
       "      <td>1</td>\n",
       "    </tr>\n",
       "    <tr>\n",
       "      <th>3</th>\n",
       "      <td>0</td>\n",
       "    </tr>\n",
       "    <tr>\n",
       "      <th>4</th>\n",
       "      <td>1</td>\n",
       "    </tr>\n",
       "  </tbody>\n",
       "</table>\n",
       "</div>"
      ],
      "text/plain": [
       "   Class\n",
       "0      1\n",
       "1      0\n",
       "2      1\n",
       "3      0\n",
       "4      1"
      ]
     },
     "execution_count": 49,
     "metadata": {},
     "output_type": "execute_result"
    }
   ],
   "source": [
    "y=pd.DataFrame(df['Class'])\n",
    "y.head()"
   ]
  },
  {
   "cell_type": "code",
   "execution_count": 50,
   "metadata": {},
   "outputs": [],
   "source": [
    "from sklearn.model_selection import train_test_split\n",
    "X_train,X_test,y_train,y_test=train_test_split(X,y,test_size=0.20)"
   ]
  },
  {
   "cell_type": "code",
   "execution_count": 59,
   "metadata": {},
   "outputs": [
    {
     "data": {
      "text/plain": [
       "(614, 2)"
      ]
     },
     "execution_count": 59,
     "metadata": {},
     "output_type": "execute_result"
    }
   ],
   "source": [
    "(X_train).shape"
   ]
  },
  {
   "cell_type": "code",
   "execution_count": 61,
   "metadata": {},
   "outputs": [],
   "source": [
    "import keras"
   ]
  },
  {
   "cell_type": "code",
   "execution_count": 62,
   "metadata": {},
   "outputs": [],
   "source": [
    "from keras.models import Sequential\n",
    "from keras.layers import Dense\n",
    "from keras.layers import ReLU,LeakyReLU,PReLU\n",
    "from keras.layers import Dropout"
   ]
  },
  {
   "cell_type": "code",
   "execution_count": 63,
   "metadata": {},
   "outputs": [],
   "source": [
    "classifier=Sequential()"
   ]
  },
  {
   "cell_type": "code",
   "execution_count": 64,
   "metadata": {},
   "outputs": [],
   "source": [
    "classifier.add(Dense(units=6,kernel_initializer='he_uniform',activation='relu',input_dim=2))"
   ]
  },
  {
   "cell_type": "code",
   "execution_count": 65,
   "metadata": {},
   "outputs": [],
   "source": [
    "classifier.add(Dense(units=6,kernel_initializer='he_uniform',activation='relu'))"
   ]
  },
  {
   "cell_type": "code",
   "execution_count": 66,
   "metadata": {},
   "outputs": [],
   "source": [
    "classifier.add(Dense(units=1,kernel_initializer='glorot_uniform',activation='sigmoid'))"
   ]
  },
  {
   "cell_type": "code",
   "execution_count": 67,
   "metadata": {},
   "outputs": [],
   "source": [
    "classifier.compile(optimizer='adam',loss='binary_crossentropy',metrics=['accuracy'])"
   ]
  },
  {
   "cell_type": "code",
   "execution_count": 68,
   "metadata": {},
   "outputs": [
    {
     "name": "stderr",
     "output_type": "stream",
     "text": [
      "C:\\Users\\Lenovo\\.conda\\envs\\tensorflow 3.6\\lib\\site-packages\\ipykernel_launcher.py:1: UserWarning: The `nb_epoch` argument in `fit` has been renamed `epochs`.\n",
      "  \"\"\"Entry point for launching an IPython kernel.\n"
     ]
    },
    {
     "name": "stdout",
     "output_type": "stream",
     "text": [
      "Train on 411 samples, validate on 203 samples\n",
      "Epoch 1/100\n",
      "411/411 [==============================] - 1s 3ms/step - loss: 0.8253 - accuracy: 0.2968 - val_loss: 0.7519 - val_accuracy: 0.3103\n",
      "Epoch 2/100\n",
      "411/411 [==============================] - 0s 459us/step - loss: 0.6784 - accuracy: 0.5328 - val_loss: 0.6299 - val_accuracy: 0.7537\n",
      "Epoch 3/100\n",
      "411/411 [==============================] - 0s 552us/step - loss: 0.5976 - accuracy: 0.7762 - val_loss: 0.5537 - val_accuracy: 0.8325\n",
      "Epoch 4/100\n",
      "411/411 [==============================] - 0s 432us/step - loss: 0.5420 - accuracy: 0.8005 - val_loss: 0.4994 - val_accuracy: 0.8571\n",
      "Epoch 5/100\n",
      "411/411 [==============================] - 0s 445us/step - loss: 0.5042 - accuracy: 0.7908 - val_loss: 0.4588 - val_accuracy: 0.8621\n",
      "Epoch 6/100\n",
      "411/411 [==============================] - 0s 412us/step - loss: 0.4759 - accuracy: 0.8102 - val_loss: 0.4247 - val_accuracy: 0.8670\n",
      "Epoch 7/100\n",
      "411/411 [==============================] - 0s 408us/step - loss: 0.4540 - accuracy: 0.8029 - val_loss: 0.4012 - val_accuracy: 0.8768\n",
      "Epoch 8/100\n",
      "411/411 [==============================] - 0s 452us/step - loss: 0.4392 - accuracy: 0.8005 - val_loss: 0.3858 - val_accuracy: 0.8768\n",
      "Epoch 9/100\n",
      "411/411 [==============================] - 0s 443us/step - loss: 0.4293 - accuracy: 0.8054 - val_loss: 0.3677 - val_accuracy: 0.8719\n",
      "Epoch 10/100\n",
      "411/411 [==============================] - 0s 431us/step - loss: 0.4206 - accuracy: 0.8029 - val_loss: 0.3618 - val_accuracy: 0.8818\n",
      "Epoch 11/100\n",
      "411/411 [==============================] - 0s 493us/step - loss: 0.4150 - accuracy: 0.7981 - val_loss: 0.3570 - val_accuracy: 0.8768\n",
      "Epoch 12/100\n",
      "411/411 [==============================] - 0s 447us/step - loss: 0.4104 - accuracy: 0.8005 - val_loss: 0.3466 - val_accuracy: 0.8768\n",
      "Epoch 13/100\n",
      "411/411 [==============================] - 0s 424us/step - loss: 0.4074 - accuracy: 0.8078 - val_loss: 0.3400 - val_accuracy: 0.8768\n",
      "Epoch 14/100\n",
      "411/411 [==============================] - 0s 426us/step - loss: 0.4055 - accuracy: 0.8078 - val_loss: 0.3366 - val_accuracy: 0.8768\n",
      "Epoch 15/100\n",
      "411/411 [==============================] - 0s 436us/step - loss: 0.4047 - accuracy: 0.7981 - val_loss: 0.3388 - val_accuracy: 0.8719\n",
      "Epoch 16/100\n",
      "411/411 [==============================] - 0s 414us/step - loss: 0.4045 - accuracy: 0.8054 - val_loss: 0.3332 - val_accuracy: 0.8719\n",
      "Epoch 17/100\n",
      "411/411 [==============================] - 0s 466us/step - loss: 0.4007 - accuracy: 0.8151 - val_loss: 0.3246 - val_accuracy: 0.8818\n",
      "Epoch 18/100\n",
      "411/411 [==============================] - 0s 444us/step - loss: 0.3997 - accuracy: 0.8102 - val_loss: 0.3280 - val_accuracy: 0.8768\n",
      "Epoch 19/100\n",
      "411/411 [==============================] - 0s 424us/step - loss: 0.3985 - accuracy: 0.8102 - val_loss: 0.3260 - val_accuracy: 0.8768\n",
      "Epoch 20/100\n",
      "411/411 [==============================] - 0s 408us/step - loss: 0.3966 - accuracy: 0.8102 - val_loss: 0.3257 - val_accuracy: 0.8719\n",
      "Epoch 21/100\n",
      "411/411 [==============================] - 0s 434us/step - loss: 0.3960 - accuracy: 0.8127 - val_loss: 0.3262 - val_accuracy: 0.8768\n",
      "Epoch 22/100\n",
      "411/411 [==============================] - 0s 402us/step - loss: 0.3954 - accuracy: 0.8127 - val_loss: 0.3239 - val_accuracy: 0.8818\n",
      "Epoch 23/100\n",
      "411/411 [==============================] - 0s 466us/step - loss: 0.3955 - accuracy: 0.8175 - val_loss: 0.3215 - val_accuracy: 0.8818\n",
      "Epoch 24/100\n",
      "411/411 [==============================] - 0s 534us/step - loss: 0.3954 - accuracy: 0.8151 - val_loss: 0.3301 - val_accuracy: 0.8818\n",
      "Epoch 25/100\n",
      "411/411 [==============================] - 0s 380us/step - loss: 0.3938 - accuracy: 0.8102 - val_loss: 0.3226 - val_accuracy: 0.8818\n",
      "Epoch 26/100\n",
      "411/411 [==============================] - 0s 484us/step - loss: 0.3946 - accuracy: 0.8200 - val_loss: 0.3231 - val_accuracy: 0.8768\n",
      "Epoch 27/100\n",
      "411/411 [==============================] - 0s 429us/step - loss: 0.3921 - accuracy: 0.8224 - val_loss: 0.3192 - val_accuracy: 0.8768\n",
      "Epoch 28/100\n",
      "411/411 [==============================] - 0s 444us/step - loss: 0.3924 - accuracy: 0.8248 - val_loss: 0.3256 - val_accuracy: 0.8768\n",
      "Epoch 29/100\n",
      "411/411 [==============================] - 0s 565us/step - loss: 0.3910 - accuracy: 0.8224 - val_loss: 0.3210 - val_accuracy: 0.8818\n",
      "Epoch 30/100\n",
      "411/411 [==============================] - 0s 449us/step - loss: 0.3908 - accuracy: 0.8224 - val_loss: 0.3200 - val_accuracy: 0.8719\n",
      "Epoch 31/100\n",
      "411/411 [==============================] - 0s 424us/step - loss: 0.3910 - accuracy: 0.8200 - val_loss: 0.3262 - val_accuracy: 0.8768\n",
      "Epoch 32/100\n",
      "411/411 [==============================] - 0s 467us/step - loss: 0.3934 - accuracy: 0.8224 - val_loss: 0.3212 - val_accuracy: 0.8719\n",
      "Epoch 33/100\n",
      "411/411 [==============================] - 0s 446us/step - loss: 0.3896 - accuracy: 0.8200 - val_loss: 0.3227 - val_accuracy: 0.8768\n",
      "Epoch 34/100\n",
      "411/411 [==============================] - 0s 448us/step - loss: 0.3893 - accuracy: 0.8175 - val_loss: 0.3214 - val_accuracy: 0.8818\n",
      "Epoch 35/100\n",
      "411/411 [==============================] - 0s 468us/step - loss: 0.3895 - accuracy: 0.8200 - val_loss: 0.3240 - val_accuracy: 0.8768\n",
      "Epoch 36/100\n",
      "411/411 [==============================] - 0s 409us/step - loss: 0.3889 - accuracy: 0.8224 - val_loss: 0.3190 - val_accuracy: 0.8719\n",
      "Epoch 37/100\n",
      "411/411 [==============================] - 0s 455us/step - loss: 0.3884 - accuracy: 0.8200 - val_loss: 0.3135 - val_accuracy: 0.8768\n",
      "Epoch 38/100\n",
      "411/411 [==============================] - 0s 426us/step - loss: 0.3896 - accuracy: 0.8248 - val_loss: 0.3196 - val_accuracy: 0.8768\n",
      "Epoch 39/100\n",
      "411/411 [==============================] - 0s 477us/step - loss: 0.3880 - accuracy: 0.8175 - val_loss: 0.3217 - val_accuracy: 0.8768\n",
      "Epoch 40/100\n",
      "411/411 [==============================] - 0s 474us/step - loss: 0.3881 - accuracy: 0.8175 - val_loss: 0.3244 - val_accuracy: 0.8768\n",
      "Epoch 41/100\n",
      "411/411 [==============================] - 0s 446us/step - loss: 0.3880 - accuracy: 0.8200 - val_loss: 0.3253 - val_accuracy: 0.8768\n",
      "Epoch 42/100\n",
      "411/411 [==============================] - 0s 432us/step - loss: 0.3885 - accuracy: 0.8248 - val_loss: 0.3226 - val_accuracy: 0.8768\n",
      "Epoch 43/100\n",
      "411/411 [==============================] - 0s 409us/step - loss: 0.3869 - accuracy: 0.8200 - val_loss: 0.3214 - val_accuracy: 0.8768\n",
      "Epoch 44/100\n",
      "411/411 [==============================] - 0s 410us/step - loss: 0.3889 - accuracy: 0.8200 - val_loss: 0.3199 - val_accuracy: 0.8768\n",
      "Epoch 45/100\n",
      "411/411 [==============================] - 0s 431us/step - loss: 0.3872 - accuracy: 0.8175 - val_loss: 0.3260 - val_accuracy: 0.8768\n",
      "Epoch 46/100\n",
      "411/411 [==============================] - 0s 478us/step - loss: 0.3868 - accuracy: 0.8175 - val_loss: 0.3201 - val_accuracy: 0.8719\n",
      "Epoch 47/100\n",
      "411/411 [==============================] - 0s 528us/step - loss: 0.3866 - accuracy: 0.8175 - val_loss: 0.3237 - val_accuracy: 0.8768\n",
      "Epoch 48/100\n",
      "411/411 [==============================] - 0s 427us/step - loss: 0.3864 - accuracy: 0.8200 - val_loss: 0.3272 - val_accuracy: 0.8768\n",
      "Epoch 49/100\n",
      "411/411 [==============================] - 0s 530us/step - loss: 0.3854 - accuracy: 0.8175 - val_loss: 0.3184 - val_accuracy: 0.8719\n",
      "Epoch 50/100\n",
      "411/411 [==============================] - 0s 572us/step - loss: 0.3858 - accuracy: 0.8151 - val_loss: 0.3153 - val_accuracy: 0.8670\n",
      "Epoch 51/100\n",
      "411/411 [==============================] - 0s 498us/step - loss: 0.3877 - accuracy: 0.8151 - val_loss: 0.3158 - val_accuracy: 0.8719\n",
      "Epoch 52/100\n",
      "411/411 [==============================] - 0s 481us/step - loss: 0.3852 - accuracy: 0.8200 - val_loss: 0.3230 - val_accuracy: 0.8768\n",
      "Epoch 53/100\n",
      "411/411 [==============================] - 0s 515us/step - loss: 0.3853 - accuracy: 0.8175 - val_loss: 0.3233 - val_accuracy: 0.8768\n",
      "Epoch 54/100\n",
      "411/411 [==============================] - 0s 505us/step - loss: 0.3854 - accuracy: 0.8200 - val_loss: 0.3250 - val_accuracy: 0.8768\n",
      "Epoch 55/100\n",
      "411/411 [==============================] - 0s 438us/step - loss: 0.3846 - accuracy: 0.8175 - val_loss: 0.3265 - val_accuracy: 0.8719\n",
      "Epoch 56/100\n",
      "411/411 [==============================] - 0s 493us/step - loss: 0.3837 - accuracy: 0.8200 - val_loss: 0.3219 - val_accuracy: 0.8768\n"
     ]
    },
    {
     "name": "stdout",
     "output_type": "stream",
     "text": [
      "Epoch 57/100\n",
      "411/411 [==============================] - 0s 476us/step - loss: 0.3838 - accuracy: 0.8175 - val_loss: 0.3251 - val_accuracy: 0.8670\n",
      "Epoch 58/100\n",
      "411/411 [==============================] - 0s 545us/step - loss: 0.3827 - accuracy: 0.8175 - val_loss: 0.3280 - val_accuracy: 0.8768\n",
      "Epoch 59/100\n",
      "411/411 [==============================] - 0s 584us/step - loss: 0.3825 - accuracy: 0.8151 - val_loss: 0.3150 - val_accuracy: 0.8719\n",
      "Epoch 60/100\n",
      "411/411 [==============================] - 0s 474us/step - loss: 0.3819 - accuracy: 0.8224 - val_loss: 0.3186 - val_accuracy: 0.8719\n",
      "Epoch 61/100\n",
      "411/411 [==============================] - 0s 500us/step - loss: 0.3817 - accuracy: 0.8151 - val_loss: 0.3237 - val_accuracy: 0.8768\n",
      "Epoch 62/100\n",
      "411/411 [==============================] - 0s 489us/step - loss: 0.3805 - accuracy: 0.8224 - val_loss: 0.3179 - val_accuracy: 0.8670\n",
      "Epoch 63/100\n",
      "411/411 [==============================] - 0s 690us/step - loss: 0.3827 - accuracy: 0.8151 - val_loss: 0.3166 - val_accuracy: 0.8670\n",
      "Epoch 64/100\n",
      "411/411 [==============================] - 0s 556us/step - loss: 0.3822 - accuracy: 0.8175 - val_loss: 0.3235 - val_accuracy: 0.8768\n",
      "Epoch 65/100\n",
      "411/411 [==============================] - 0s 887us/step - loss: 0.3817 - accuracy: 0.8248 - val_loss: 0.3191 - val_accuracy: 0.8719\n",
      "Epoch 66/100\n",
      "411/411 [==============================] - 0s 600us/step - loss: 0.3873 - accuracy: 0.8029 - val_loss: 0.3460 - val_accuracy: 0.8522\n",
      "Epoch 67/100\n",
      "411/411 [==============================] - 0s 563us/step - loss: 0.3834 - accuracy: 0.8102 - val_loss: 0.3210 - val_accuracy: 0.8768\n",
      "Epoch 68/100\n",
      "411/411 [==============================] - 0s 564us/step - loss: 0.3805 - accuracy: 0.8200 - val_loss: 0.3244 - val_accuracy: 0.8768\n",
      "Epoch 69/100\n",
      "411/411 [==============================] - 0s 613us/step - loss: 0.3800 - accuracy: 0.8151 - val_loss: 0.3209 - val_accuracy: 0.8719\n",
      "Epoch 70/100\n",
      "411/411 [==============================] - 0s 547us/step - loss: 0.3802 - accuracy: 0.8151 - val_loss: 0.3213 - val_accuracy: 0.8719\n",
      "Epoch 71/100\n",
      "411/411 [==============================] - 0s 574us/step - loss: 0.3801 - accuracy: 0.8175 - val_loss: 0.3230 - val_accuracy: 0.8719\n",
      "Epoch 72/100\n",
      "411/411 [==============================] - 0s 528us/step - loss: 0.3790 - accuracy: 0.8224 - val_loss: 0.3254 - val_accuracy: 0.8768\n",
      "Epoch 73/100\n",
      "411/411 [==============================] - 0s 564us/step - loss: 0.3795 - accuracy: 0.8200 - val_loss: 0.3223 - val_accuracy: 0.8719\n",
      "Epoch 74/100\n",
      "411/411 [==============================] - 0s 562us/step - loss: 0.3795 - accuracy: 0.8151 - val_loss: 0.3184 - val_accuracy: 0.8719\n",
      "Epoch 75/100\n",
      "411/411 [==============================] - 0s 551us/step - loss: 0.3798 - accuracy: 0.8175 - val_loss: 0.3214 - val_accuracy: 0.8719\n",
      "Epoch 76/100\n",
      "411/411 [==============================] - 0s 510us/step - loss: 0.3802 - accuracy: 0.8175 - val_loss: 0.3180 - val_accuracy: 0.8670\n",
      "Epoch 77/100\n",
      "411/411 [==============================] - 0s 585us/step - loss: 0.3790 - accuracy: 0.8151 - val_loss: 0.3196 - val_accuracy: 0.8719\n",
      "Epoch 78/100\n",
      "411/411 [==============================] - 0s 407us/step - loss: 0.3790 - accuracy: 0.8175 - val_loss: 0.3227 - val_accuracy: 0.8719\n",
      "Epoch 79/100\n",
      "411/411 [==============================] - 0s 426us/step - loss: 0.3786 - accuracy: 0.8175 - val_loss: 0.3226 - val_accuracy: 0.8719\n",
      "Epoch 80/100\n",
      "411/411 [==============================] - 0s 450us/step - loss: 0.3782 - accuracy: 0.8248 - val_loss: 0.3262 - val_accuracy: 0.8768\n",
      "Epoch 81/100\n",
      "411/411 [==============================] - 0s 392us/step - loss: 0.3787 - accuracy: 0.8200 - val_loss: 0.3200 - val_accuracy: 0.8719\n",
      "Epoch 82/100\n",
      "411/411 [==============================] - 0s 409us/step - loss: 0.3780 - accuracy: 0.8175 - val_loss: 0.3191 - val_accuracy: 0.8719\n",
      "Epoch 83/100\n",
      "411/411 [==============================] - 0s 378us/step - loss: 0.3786 - accuracy: 0.8151 - val_loss: 0.3230 - val_accuracy: 0.8768\n",
      "Epoch 84/100\n",
      "411/411 [==============================] - 0s 518us/step - loss: 0.3773 - accuracy: 0.8175 - val_loss: 0.3216 - val_accuracy: 0.8719\n",
      "Epoch 85/100\n",
      "411/411 [==============================] - 0s 475us/step - loss: 0.3779 - accuracy: 0.8151 - val_loss: 0.3224 - val_accuracy: 0.8719\n",
      "Epoch 86/100\n",
      "411/411 [==============================] - 0s 465us/step - loss: 0.3774 - accuracy: 0.8175 - val_loss: 0.3217 - val_accuracy: 0.8719\n",
      "Epoch 87/100\n",
      "411/411 [==============================] - 0s 469us/step - loss: 0.3777 - accuracy: 0.8175 - val_loss: 0.3222 - val_accuracy: 0.8719\n",
      "Epoch 88/100\n",
      "411/411 [==============================] - 0s 466us/step - loss: 0.3772 - accuracy: 0.8151 - val_loss: 0.3250 - val_accuracy: 0.8719\n",
      "Epoch 89/100\n",
      "411/411 [==============================] - 0s 559us/step - loss: 0.3773 - accuracy: 0.8151 - val_loss: 0.3169 - val_accuracy: 0.8719\n",
      "Epoch 90/100\n",
      "411/411 [==============================] - 0s 459us/step - loss: 0.3772 - accuracy: 0.8127 - val_loss: 0.3222 - val_accuracy: 0.8719\n",
      "Epoch 91/100\n",
      "411/411 [==============================] - 0s 472us/step - loss: 0.3776 - accuracy: 0.8175 - val_loss: 0.3252 - val_accuracy: 0.8768\n",
      "Epoch 92/100\n",
      "411/411 [==============================] - 0s 549us/step - loss: 0.3767 - accuracy: 0.8151 - val_loss: 0.3215 - val_accuracy: 0.8719\n",
      "Epoch 93/100\n",
      "411/411 [==============================] - 0s 457us/step - loss: 0.3774 - accuracy: 0.8102 - val_loss: 0.3227 - val_accuracy: 0.8768\n",
      "Epoch 94/100\n",
      "411/411 [==============================] - 0s 471us/step - loss: 0.3759 - accuracy: 0.8175 - val_loss: 0.3216 - val_accuracy: 0.8719\n",
      "Epoch 95/100\n",
      "411/411 [==============================] - 0s 525us/step - loss: 0.3770 - accuracy: 0.8175 - val_loss: 0.3184 - val_accuracy: 0.8719\n",
      "Epoch 96/100\n",
      "411/411 [==============================] - 0s 426us/step - loss: 0.3759 - accuracy: 0.8175 - val_loss: 0.3233 - val_accuracy: 0.8719\n",
      "Epoch 97/100\n",
      "411/411 [==============================] - 0s 482us/step - loss: 0.3756 - accuracy: 0.8151 - val_loss: 0.3205 - val_accuracy: 0.8719\n",
      "Epoch 98/100\n",
      "411/411 [==============================] - 0s 408us/step - loss: 0.3756 - accuracy: 0.8151 - val_loss: 0.3251 - val_accuracy: 0.8670\n",
      "Epoch 99/100\n",
      "411/411 [==============================] - 0s 428us/step - loss: 0.3755 - accuracy: 0.8200 - val_loss: 0.3244 - val_accuracy: 0.8719\n",
      "Epoch 100/100\n",
      "411/411 [==============================] - 0s 546us/step - loss: 0.3758 - accuracy: 0.8175 - val_loss: 0.3243 - val_accuracy: 0.8719\n"
     ]
    }
   ],
   "source": [
    "model_history=classifier.fit(X_train, y_train,validation_split=0.33, batch_size=10, nb_epoch=100)"
   ]
  },
  {
   "cell_type": "code",
   "execution_count": 69,
   "metadata": {},
   "outputs": [
    {
     "name": "stdout",
     "output_type": "stream",
     "text": [
      "dict_keys(['val_loss', 'val_accuracy', 'loss', 'accuracy'])\n"
     ]
    }
   ],
   "source": [
    "print(model_history.history.keys())"
   ]
  },
  {
   "cell_type": "code",
   "execution_count": 70,
   "metadata": {},
   "outputs": [
    {
     "data": {
      "image/png": "[encoded data removed]",
      "text/plain": [
       "<Figure size 432x288 with 1 Axes>"
      ]
     },
     "metadata": {
      "needs_background": "light"
     },
     "output_type": "display_data"
    }
   ],
   "source": [
    "plt.plot(model_history.history['accuracy'])\n",
    "plt.plot(model_history.history['val_accuracy'])\n",
    "plt.title('model accuracy')\n",
    "plt.ylabel('accuracy')\n",
    "plt.xlabel('epoch')\n",
    "plt.legend(['train', 'test'], loc='upper left')\n",
    "plt.show()"
   ]
  },
  {
   "cell_type": "code",
   "execution_count": 71,
   "metadata": {},
   "outputs": [
    {
     "data": {
      "image/png": "[encoded data removed]",
      "text/plain": [
       "<Figure size 432x288 with 1 Axes>"
      ]
     },
     "metadata": {
      "needs_background": "light"
     },
     "output_type": "display_data"
    }
   ],
   "source": [
    "plt.plot(model_history.history['loss'])\n",
    "plt.plot(model_history.history['val_loss'])\n",
    "plt.title('model loss')\n",
    "plt.ylabel('loss')\n",
    "plt.xlabel('epoch')\n",
    "plt.legend(['train', 'test'], loc='upper left')\n",
    "plt.show()"
   ]
  },
  {
   "cell_type": "code",
   "execution_count": 72,
   "metadata": {},
   "outputs": [],
   "source": [
    "prediction=classifier.predict(X_test)"
   ]
  },
  {
   "cell_type": "code",
   "execution_count": 73,
   "metadata": {},
   "outputs": [
    {
     "name": "stdout",
     "output_type": "stream",
     "text": [
      "              precision    recall  f1-score   support\n",
      "\n",
      "           0       0.88      0.92      0.90        96\n",
      "           1       0.85      0.79      0.82        58\n",
      "\n",
      "    accuracy                           0.87       154\n",
      "   macro avg       0.87      0.85      0.86       154\n",
      "weighted avg       0.87      0.87      0.87       154\n",
      "\n",
      "[[88  8]\n",
      " [12 46]]\n"
     ]
    }
   ],
   "source": [
    "from sklearn.metrics import classification_report,confusion_matrix\n",
    "print(classification_report(y_test,prediction.round()))\n",
    "print(confusion_matrix(y_test,prediction.round()))"
   ]
  },
  {
   "cell_type": "code",
   "execution_count": 74,
   "metadata": {},
   "outputs": [
    {
     "data": {
      "text/plain": [
       "0.8701298701298701"
      ]
     },
     "execution_count": 74,
     "metadata": {},
     "output_type": "execute_result"
    }
   ],
   "source": [
    "from sklearn.metrics import accuracy_score\n",
    "score=accuracy_score(prediction.round(),y_test)\n",
    "score"
   ]
  },
  {
   "cell_type": "code",
   "execution_count": null,
   "metadata": {},
   "outputs": [],
   "source": []
  }
 ],
 "metadata": {
  "kernelspec": {
   "display_name": "Python 3",
   "language": "python",
   "name": "python3"
  },
  "language_info": {
   "codemirror_mode": {
    "name": "ipython",
    "version": 3
   },
   "file_extension": ".py",
   "mimetype": "text/x-python",
   "name": "python",
   "nbconvert_exporter": "python",
   "pygments_lexer": "ipython3",
   "version": "3.6.10"
  },
  "toc": {
   "base_numbering": 1,
   "nav_menu": {},
   "number_sections": true,
   "sideBar": true,
   "skip_h1_title": false,
   "title_cell": "Table of Contents",
   "title_sidebar": "Contents",
   "toc_cell": false,
   "toc_position": {},
   "toc_section_display": true,
   "toc_window_display": false
  },
  "varInspector": {
   "cols": {
    "lenName": 16,
    "lenType": 16,
    "lenVar": 40
   },
   "kernels_config": {
    "python": {
     "delete_cmd_postfix": "",
     "delete_cmd_prefix": "del ",
     "library": "var_list.py",
     "varRefreshCmd": "print(var_dic_list())"
    },
    "r": {
     "delete_cmd_postfix": ") ",
     "delete_cmd_prefix": "rm(",
     "library": "var_list.r",
     "varRefreshCmd": "cat(var_dic_list()) "
    }
   },
   "types_to_exclude": [
    "module",
    "function",
    "builtin_function_or_method",
    "instance",
    "_Feature"
   ],
   "window_display": false
  }
 },
 "nbformat": 4,
 "nbformat_minor": 2
}
